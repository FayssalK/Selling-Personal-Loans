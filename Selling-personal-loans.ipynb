{
 "cells": [
  {
   "cell_type": "markdown",
   "metadata": {},
   "source": [
    "# Introduction\n",
    "\n",
    "   Banks offer a variety of products and services to diversify their sources of revenue. Banks are able to generate rich and significant data through a variety of methods: bank visits, applications and customer support calls. One of the main products that banks are eager to push are personal loan because of their high short term returns compared to other products they offer. That is why this project aims at helping the marketing department of my current employer (bank) to target the right segment of the bank's existing customer base. Thus, I am making recommendations based on the bank's customers' debt to income ratio. To do so, I analysed our customers' database based on age and level of education. Such recommendations will render the marketing campaign efficient and insightful."
   ]
  },
  {
   "cell_type": "markdown",
   "metadata": {},
   "source": [
    "   After running a descriptive statistical analysis of the data, we conclude that the population mean is around 35. However, most of our customers fall on the youth cathegory, those who are under 35."
   ]
  },
  {
   "cell_type": "code",
   "execution_count": 1,
   "metadata": {},
   "outputs": [
    {
     "name": "stdout",
     "output_type": "stream",
     "text": [
      "              Age         Edu\n",
      "count  850.000000  850.000000\n",
      "mean    35.029412    1.710588\n",
      "std      8.041432    0.927784\n",
      "min     20.000000    1.000000\n",
      "25%     29.000000    1.000000\n",
      "50%     34.000000    1.000000\n",
      "75%     41.000000    2.000000\n",
      "max     56.000000    5.000000\n"
     ]
    },
    {
     "data": {
      "text/plain": [
       "(array([ 79., 348., 175., 121., 127.]),\n",
       " array([20, 25, 35, 40, 45, 56]),\n",
       " <BarContainer object of 5 artists>)"
      ]
     },
     "execution_count": 1,
     "metadata": {},
     "output_type": "execute_result"
    },
    {
     "data": {
      "image/png": "[encoded data removed]",
      "text/plain": [
       "<Figure size 432x288 with 1 Axes>"
      ]
     },
     "metadata": {
      "needs_background": "light"
     },
     "output_type": "display_data"
    }
   ],
   "source": [
    "import pandas as pd\n",
    "df = pd.read_excel (r'C:\\Users\\Faical\\Downloads\\CapSto3\\Cust_Segmentation.xlsx')\n",
    "print (df[['Age', 'Edu']].describe())\n",
    "\n",
    "import numpy as np\n",
    "import matplotlib.pyplot as plt\n",
    "\n",
    "plt.hist(df['Age'], bins=[20, 25, 35, 40, 45, 56])"
   ]
  },
  {
   "cell_type": "markdown",
   "metadata": {},
   "source": [
    "# Hypothesis\n",
    "\n",
    "From a preliminary observation, I deduced that customers over the age of 40 seem to have a lower debt to income ratio compared to their younger counterparts. That might be due to many factors, some of which are not possible to measure; like experience and responsibility. Fortunately, we can use statistical tests to compare these segments and find correlations and differences that help us determine if we are right to assume that seniors should be the ones to target with the marketing campaign."
   ]
  },
  {
   "cell_type": "markdown",
   "metadata": {},
   "source": [
    "# Youth vs Seniors"
   ]
  },
  {
   "cell_type": "code",
   "execution_count": 14,
   "metadata": {},
   "outputs": [
    {
     "data": {
      "text/plain": [
       "Ttest_indResult(statistic=0.328491361348362, pvalue=0.7426212728574344)"
      ]
     },
     "execution_count": 14,
     "metadata": {},
     "output_type": "execute_result"
    }
   ],
   "source": [
    "from scipy import stats\n",
    "youth = df.iloc[(df['Age'] < 35).values]\n",
    "senior = df.iloc[(df['Age'] >= 35).values]\n",
    "\n",
    "stats.ttest_ind(youth['DebtIncomeRatio'], senior['DebtIncomeRatio'])"
   ]
  },
  {
   "cell_type": "raw",
   "metadata": {},
   "source": [
    "According to the above test, we can clearly see that there is a significant difference between the two segments, youth (under 35) and senior customers (over 35), considering that the means are, in fact, different.\n",
    "\n",
    "In addition, we will witness a high Confidence Interval in the samples chosen as shown below."
   ]
  },
  {
   "cell_type": "code",
   "execution_count": 4,
   "metadata": {},
   "outputs": [
    {
     "data": {
      "text/plain": [
       "'The difference in means at the 95% confidence interval (two-tail) is between -0.9815308228665274 and 0.8261701505194445.'"
      ]
     },
     "execution_count": 4,
     "metadata": {},
     "output_type": "execute_result"
    }
   ],
   "source": [
    "import math\n",
    "def get_95_ci(array_1, array_2):\n",
    "    youth_sample_size = array_1.shape[0]\n",
    "    senior_sample_size = array_2.shape[0]\n",
    "    youth_mean = array_1.mean()\n",
    "    senior_mean = array_2.mean()\n",
    "    youth_var = array_1.var()\n",
    "    senior_var = array_2.var()\n",
    "    std_err_difference = math.sqrt((youth_var/youth_sample_size)+(senior_var/senior_sample_size))\n",
    "    mean_difference = senior_mean - youth_mean\n",
    "    margin_of_error = 1.96 * std_err_difference\n",
    "    ci_lower = mean_difference - margin_of_error\n",
    "    ci_upper = mean_difference + margin_of_error\n",
    "    return(\"The difference in means at the 95% confidence interval (two-tail) is between \"+str(ci_lower)+\" and \"+str(ci_upper)+\".\")\n",
    "\n",
    "\n",
    "get_95_ci(youth['DebtIncomeRatio'], senior['DebtIncomeRatio'])"
   ]
  },
  {
   "cell_type": "markdown",
   "metadata": {},
   "source": [
    "or as the below error bars indicate:"
   ]
  },
  {
   "cell_type": "code",
   "execution_count": 12,
   "metadata": {},
   "outputs": [
    {
     "data": {
      "image/png": "[encoded data removed]",
      "text/plain": [
       "<Figure size 432x288 with 1 Axes>"
      ]
     },
     "metadata": {
      "needs_background": "light"
     },
     "output_type": "display_data"
    }
   ],
   "source": [
    "import numpy as np\n",
    "import matplotlib.pyplot as plt\n",
    "\n",
    "youth_mean = np.mean(youth['DebtIncomeRatio'])\n",
    "senior_mean = np.mean(senior['DebtIncomeRatio'])\n",
    "youth_std = np.std(youth['DebtIncomeRatio'])\n",
    "senior_std = np.std(senior['DebtIncomeRatio'])\n",
    "Age_pop = ['youth', 'senior']\n",
    "x_pos = np.arange(len(Age_pop))\n",
    "Age_mean = [youth_mean, senior_mean]\n",
    "error = [youth_std, senior_std]\n",
    "\n",
    "#confidence interval error bars\n",
    "fig, ax = plt.subplots()\n",
    "ax.bar(x_pos, Age_mean, yerr=error, align='center', alpha=0.5, ecolor='black', capsize=10)\n",
    "ax.set_ylabel('DebtIncomeRatio')\n",
    "ax.set_xticks(x_pos)\n",
    "ax.set_xticklabels(Age_pop)\n",
    "ax.set_title('Confidence Interval Error Bars')\n",
    "ax.yaxis.grid(True)\n",
    "\n",
    "plt.tight_layout()\n",
    "plt.savefig('bar_plot_with_error_bars.png')\n",
    "plt.show()"
   ]
  },
  {
   "cell_type": "markdown",
   "metadata": {},
   "source": [
    "The small spread between both segments in the graph below is a testament of the accuracy of the population sample"
   ]
  },
  {
   "cell_type": "code",
   "execution_count": 13,
   "metadata": {},
   "outputs": [
    {
     "data": {
      "image/png": "[encoded data removed]",
      "text/plain": [
       "<Figure size 432x288 with 1 Axes>"
      ]
     },
     "metadata": {
      "needs_background": "light"
     },
     "output_type": "display_data"
    }
   ],
   "source": [
    "#standard error\n",
    "fig, ax = plt.subplots()\n",
    "ax.bar(x_pos, error, yerr=error, align='center', alpha=0.5, ecolor='black', capsize=10)\n",
    "ax.set_ylabel('DebtIncomeRatio')\n",
    "ax.set_xticks(x_pos)\n",
    "ax.set_xticklabels(Age_pop)\n",
    "ax.set_title('Standard Error')\n",
    "ax.yaxis.grid(True)\n",
    "\n",
    "plt.tight_layout()\n",
    "plt.savefig('bar_plot_with_error_bars.png')\n",
    "plt.show()"
   ]
  },
  {
   "cell_type": "markdown",
   "metadata": {},
   "source": [
    "The below test show that both columns of data are dependent on one another because there is a linear relationship between the two"
   ]
  },
  {
   "cell_type": "code",
   "execution_count": 21,
   "metadata": {},
   "outputs": [
    {
     "data": {
      "text/plain": [
       "0.008240009437843556"
      ]
     },
     "execution_count": 21,
     "metadata": {},
     "output_type": "execute_result"
    }
   ],
   "source": [
    "df['Age'].corr(df['DebtIncomeRatio'])"
   ]
  },
  {
   "cell_type": "code",
   "execution_count": 23,
   "metadata": {},
   "outputs": [
    {
     "data": {
      "image/png": "[encoded data removed]",
      "text/plain": [
       "<Figure size 432x288 with 1 Axes>"
      ]
     },
     "metadata": {},
     "output_type": "display_data"
    }
   ],
   "source": [
    "import numpy as np\n",
    "import seaborn as sns\n",
    "import matplotlib.pyplot as plt\n",
    "\n",
    "sns.set_theme(color_codes=True)\n",
    "\n",
    "sns.regplot(x=\"Age\", y=\"DebtIncomeRatio\", data=df);"
   ]
  },
  {
   "cell_type": "markdown",
   "metadata": {},
   "source": [
    "# Educational Level"
   ]
  },
  {
   "cell_type": "markdown",
   "metadata": {},
   "source": [
    "As I mentioned previously, the difference in the educational level among our customers might shed a light on how they behave financially. Thus, we will contrast our population sample's educational level with their debt to income ratio to see how significant of an index the educational level is to us in determining who the marketing campaign should target and eventually offer a personal loan to. The educational level are refered to numerically as follow (1 = highschool, 2 = some college, 3 = college grad, 4 = Masters, 5 = PhDs).\n",
    "I believe that the higher the education, the lower the debt to income is. To prove (or disprove) this hypothesis, I chose to repeat the same method I used to approach the age segments."
   ]
  },
  {
   "cell_type": "code",
   "execution_count": 16,
   "metadata": {},
   "outputs": [
    {
     "data": {
      "text/plain": [
       "Ttest_indResult(statistic=0.328491361348362, pvalue=0.7426212728574344)"
      ]
     },
     "execution_count": 16,
     "metadata": {},
     "output_type": "execute_result"
    }
   ],
   "source": [
    "from scipy import stats\n",
    "highschool = df.iloc[(df['Edu'] == 1).values]\n",
    "college = df.iloc[(df['Edu'] != 1).values]\n",
    "\n",
    "stats.ttest_ind(youth['DebtIncomeRatio'], senior['DebtIncomeRatio'])"
   ]
  },
  {
   "cell_type": "code",
   "execution_count": 18,
   "metadata": {},
   "outputs": [
    {
     "data": {
      "text/plain": [
       "'The difference in means at the 95% confidence interval (two-tail) is between -0.9888191736352527 and 0.8206920833342433.'"
      ]
     },
     "execution_count": 18,
     "metadata": {},
     "output_type": "execute_result"
    }
   ],
   "source": [
    "import math\n",
    "def get_95_ci(array_1, array_2):\n",
    "    hs_sample_size = array_1.shape[0]\n",
    "    college_sample_size = array_2.shape[0]\n",
    "    hs_mean = array_1.mean()\n",
    "    college_mean = array_2.mean()\n",
    "    hs_var = array_1.var()\n",
    "    college_var = array_2.var()\n",
    "    std_err_difference = math.sqrt((hs_var/hs_sample_size)+(college_var/college_sample_size))\n",
    "    mean_difference = college_mean - hs_mean\n",
    "    margin_of_error = 1.96 * std_err_difference\n",
    "    ci_lower = mean_difference - margin_of_error\n",
    "    ci_upper = mean_difference + margin_of_error\n",
    "    return(\"The difference in means at the 95% confidence interval (two-tail) is between \"+str(ci_lower)+\" and \"+str(ci_upper)+\".\")\n",
    "\n",
    "\n",
    "get_95_ci(highschool['DebtIncomeRatio'], college['DebtIncomeRatio'])"
   ]
  },
  {
   "cell_type": "markdown",
   "metadata": {},
   "source": [
    "The above test results closeness to the mean and distance from 0 show that the dataset is accurate and also a high confidence interval as the graph below shows"
   ]
  },
  {
   "cell_type": "code",
   "execution_count": 19,
   "metadata": {},
   "outputs": [
    {
     "data": {
      "image/png": "[encoded data removed]",
      "text/plain": [
       "<Figure size 432x288 with 1 Axes>"
      ]
     },
     "metadata": {
      "needs_background": "light"
     },
     "output_type": "display_data"
    }
   ],
   "source": [
    "import numpy as np\n",
    "import matplotlib.pyplot as plt\n",
    "\n",
    "hs_mean = np.mean(highschool['DebtIncomeRatio'])\n",
    "college_mean = np.mean(college['DebtIncomeRatio'])\n",
    "hs_std = np.std(highschool['DebtIncomeRatio'])\n",
    "college_std = np.std(college['DebtIncomeRatio'])\n",
    "edu_pop = ['highschool', 'college']\n",
    "x_pos = np.arange(len(edu_pop))\n",
    "edu_mean = [hs_mean, college_mean]\n",
    "error = [hs_std, college_std]\n",
    "\n",
    "#confidence interval error bars\n",
    "fig, ax = plt.subplots()\n",
    "ax.bar(x_pos, edu_mean, yerr=error, align='center', alpha=0.5, ecolor='black', capsize=10)\n",
    "ax.set_ylabel('DebtIncomeRatio')\n",
    "ax.set_xticks(x_pos)\n",
    "ax.set_xticklabels(edu_pop)\n",
    "ax.set_title('Confidence Interval Error Bars')\n",
    "ax.yaxis.grid(True)\n",
    "\n",
    "plt.tight_layout()\n",
    "plt.savefig('bar_plot_with_error_bars.png')\n",
    "plt.show()"
   ]
  },
  {
   "cell_type": "markdown",
   "metadata": {},
   "source": [
    "The closeness of both samples shows the dataset accuarcy"
   ]
  },
  {
   "cell_type": "code",
   "execution_count": 20,
   "metadata": {},
   "outputs": [
    {
     "data": {
      "image/png": "[encoded data removed]",
      "text/plain": [
       "<Figure size 432x288 with 1 Axes>"
      ]
     },
     "metadata": {
      "needs_background": "light"
     },
     "output_type": "display_data"
    }
   ],
   "source": [
    "#standard error\n",
    "fig, ax = plt.subplots()\n",
    "ax.bar(x_pos, error, yerr=error, align='center', alpha=0.5, ecolor='black', capsize=10)\n",
    "ax.set_ylabel('DebtIncomeRatio')\n",
    "ax.set_xticks(x_pos)\n",
    "ax.set_xticklabels(edu_pop)\n",
    "ax.set_title('Standard Error')\n",
    "ax.yaxis.grid(True)\n",
    "\n",
    "plt.tight_layout()\n",
    "plt.savefig('bar_plot_with_error_bars.png')\n",
    "plt.show()"
   ]
  },
  {
   "cell_type": "markdown",
   "metadata": {},
   "source": [
    "The below pearson correlation test shows an interdependent linear relationship"
   ]
  },
  {
   "cell_type": "code",
   "execution_count": 28,
   "metadata": {},
   "outputs": [
    {
     "data": {
      "text/plain": [
       "0.008053385963365368"
      ]
     },
     "execution_count": 28,
     "metadata": {},
     "output_type": "execute_result"
    }
   ],
   "source": [
    "df['Edu'].corr(df['DebtIncomeRatio'])"
   ]
  },
  {
   "cell_type": "markdown",
   "metadata": {},
   "source": [
    "# Conclusion and Recommendations"
   ]
  },
  {
   "cell_type": "markdown",
   "metadata": {},
   "source": [
    "To conclude, customers who are 40 and older tend to have their debt under control more than their younger counterparts. From this deduction, they seem to be the portion of the population to target directly with a marketing campaign. However, the educational level play an important role in indicating the likelihood of the target customer repaying a short term loan like personal loans.\n",
    "I personally recommend that we consider the age of the potential personal loan purchaser while considering the educational level so that we do not end up losing a segment of our customers who might be younger but display a great deal of financial responsibility through a low debt to income ratio."
   ]
  }
 ],
 "metadata": {
  "kernelspec": {
   "display_name": "Python 3",
   "language": "python",
   "name": "python3"
  },
  "language_info": {
   "codemirror_mode": {
    "name": "ipython",
    "version": 3
   },
   "file_extension": ".py",
   "mimetype": "text/x-python",
   "name": "python",
   "nbconvert_exporter": "python",
   "pygments_lexer": "ipython3",
   "version": "3.8.5"
  }
 },
 "nbformat": 4,
 "nbformat_minor": 4
}
